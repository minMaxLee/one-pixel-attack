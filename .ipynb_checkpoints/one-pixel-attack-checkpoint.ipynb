{
 "cells": [
  {
   "cell_type": "code",
   "execution_count": 1,
   "metadata": {
    "collapsed": true
   },
   "outputs": [],
   "source": [
    "import random \n",
    "from deap import algorithms, base, creator, tools \n",
    "\n",
    "creator.create(\"FitMax\", base.Fitness, weights=(1.0,))\n",
    "creator.create(\"Ind\", list, fitness=creator.FitMax)\n"
   ]
  },
  {
   "cell_type": "code",
   "execution_count": 3,
   "metadata": {
    "collapsed": true
   },
   "outputs": [],
   "source": [
    "# populate with x,y and RGB values \n",
    "def generate_ind(size):\n",
    "    # uniform x and y \n",
    "    \n",
    "    # !!! [1,32] or [0,32]?? 'index' starts at 0 \n",
    "    x = random.randint(1,size)\n",
    "    y = random.randint(1,size)\n",
    "    # Normal RGB value, clamped between [0,255]\n",
    "    R = random.gauss(128, 127)\n",
    "    R = max(0, min(R, 255))\n",
    "    G = random.gauss(128, 127)\n",
    "    G = max(0, min(G, 255))\n",
    "    B = random.gauss(128,127)\n",
    "    B = max(0, min(B, 255))\n",
    "    \n",
    "    return (x,y,R,G,B)\n",
    "\n",
    "def eval_adv(individual, target):\n",
    "    #return logit of target class\n",
    "    \n",
    "    #extract features in individual, correct method? \n",
    "    x,y,R,G,B = individual[0]\n",
    "    \n",
    "    #attack pixel(s) from original image\n",
    "    #original_im[x][y](R) = R etc etc etc \n",
    "    \n",
    "    #get model probability \n",
    "    #model(im), return this as tuple\n",
    "    return"
   ]
  },
  {
   "cell_type": "code",
   "execution_count": 5,
   "metadata": {},
   "outputs": [],
   "source": [
    "# size = 32 for CIFAR\n",
    "SIZE = 32\n",
    "NUM_PIXEL_ATTACK = 1\n",
    "toolbox = base.Toolbox()\n",
    "toolbox.register(\"attribute\", generate_ind, SIZE)\n",
    "toolbox.register(\"ind\", tools.initRepeat, creator.Ind, toolbox.attribute, n=NUM_PIXEL_ATTACK)\n",
    "toolbox.register(\"pop\", tools.initRepeat, list, toolbox.ind)\n",
    "\n",
    "toolbox.register(\"eval\", eval_adv)"
   ]
  },
  {
   "cell_type": "code",
   "execution_count": 8,
   "metadata": {
    "collapsed": true
   },
   "outputs": [],
   "source": [
    "def three_random_nums():\n",
    "    r1 = random.randint(0,399)\n",
    "    r2 = random.randint(0,399)\n",
    "    r3 = random.randint(0,399)\n",
    "    while r1 == r2 or r1 == r3 or r2 == r3: \n",
    "        r2 = random.randint(0,399)\n",
    "        r3 = random.randint(0,399)\n",
    "    return r1,r2,r3\n",
    "\n",
    "#evolve solution features given three random candidate solutions\n",
    "def evolve(p1, p2, p3):\n",
    "    new_x = p1[0] + 0.5*(p2[0] - p3[0])\n",
    "    new_x = int(32 * ((new_x + 16)/64))\n",
    "    \n",
    "    new_y = p1[1] + 0.5*(p2[1] - p3[1])\n",
    "    new_y = int(32 * ((new_y + 16)/64))\n",
    "    \n",
    "    new_r = p1[2] + 0.5*(p2[2] - p3[2])\n",
    "    new_r = 256 * ((new_r + 128)/512)\n",
    "    \n",
    "    new_g = p1[3] + 0.5*(p2[3] - p3[3])\n",
    "    new_g = 256 * ((new_g + 128)/512)\n",
    "    \n",
    "    new_b = p1[4] + 0.5*(p2[4] - p3[4])\n",
    "    new_b = 256 * ((new_b + 128)/512)\n",
    "    \n",
    "    return new_x, new_y, new_r, new_g, new_b"
   ]
  },
  {
   "cell_type": "code",
   "execution_count": null,
   "metadata": {
    "collapsed": true
   },
   "outputs": [],
   "source": [
    "def main():\n",
    "    #creating the population of n individuals \n",
    "    pop = toolbox.pop(n=400)\n",
    "    fitnesses = toolbox.map(toolbox.evaluate, pop)\n",
    "    for ind, fit in zip(pop, fitnesses):\n",
    "        ind.fitness.values = fit\n",
    "    fits = [ind.fitness.values[0] for ind in pop]\n",
    "    g = 0\n",
    "    while max(fits) < 0.9 or g < 100: \n",
    "        g += 1\n",
    "        print(\"-- Generation %i --\" % g)\n",
    "        \n",
    "        #generate children by differential evolution\n",
    "        # !!! check data structure needed for clone()\n",
    "        offspring = list(map(toolbox.clone, pop))\n",
    "        \n",
    "        for child in offspring: \n",
    "            r1,r2,r3 = three_random_nums()\n",
    "          \n",
    "            p1 = pop[r1]\n",
    "            p2 = pop[r2]\n",
    "            p3 = pop[r3]\n",
    "            \n",
    "            #evolve\n",
    "            child[0], child[1], child[2], child[3], child[4] = evolve_xy(p1,p2,p3)\n",
    "            \n",
    "            # !!! delete children fitness values? or simply overwrite\n",
    "            \n",
    "        # get fitness values of children\n",
    "        fitnesses = map(toolbox.evaluate, offspring)\n",
    "        for ind, fit in zip(offspring, fitnesses):\n",
    "            ind.fitness.value = fit\n",
    "        \n",
    "        # change parent's value if child is higher \n",
    "        for parent, child in zip(pop, offspring):\n",
    "            if child.fitness.value[0] > parent.fitness.value[0]: \n",
    "                parent = child\n",
    "                parent.fitness.value[0] = child.fitness.value[0]\n",
    "        \n",
    "        fits = [ind.fitness.values[0] for ind in pop]\n",
    "        \n",
    "        length = len(pop)\n",
    "        mean = sum(fits) / length\n",
    "        sum2 = sum(x*x for x in fits)\n",
    "        print(\"  Min %s\" % min(fits))\n",
    "        print(\"  Max %s\" % max(fits))\n",
    "        print(\"  Avg %s\" % mean)\n",
    "        \n",
    "main()\n",
    "        \n",
    "            \n",
    "            \n",
    "\n",
    "\n",
    "    #evolution: use in main()\n",
    "    #get x,y,r,g,b\n",
    "    #clone pop\n",
    "    for ind in pop: \n",
    "        ind1 = pop[r1]\n",
    "        ind2 = pop[r2]\n",
    "        ind3 = pop[r3]\n",
    "        index = 0\n",
    "        #need to normalize / keep within range? like negatives/integers\n",
    "        for feature in ind:\n",
    "            ind[index] = ind1[index] + 0.5*(ind2[index] - ind3[index])\n",
    "            index += 1"
   ]
  },
  {
   "cell_type": "code",
   "execution_count": null,
   "metadata": {
    "collapsed": true
   },
   "outputs": [],
   "source": [
    "parent = (1,2,3)\n",
    "child = (0,0,5)\n",
    "\n",
    "for p, c in zip(parent, child):\n",
    "    if "
   ]
  }
 ],
 "metadata": {
  "kernelspec": {
   "display_name": "Python 3",
   "language": "python",
   "name": "python3"
  },
  "language_info": {
   "codemirror_mode": {
    "name": "ipython",
    "version": 3
   },
   "file_extension": ".py",
   "mimetype": "text/x-python",
   "name": "python",
   "nbconvert_exporter": "python",
   "pygments_lexer": "ipython3",
   "version": "3.6.3"
  }
 },
 "nbformat": 4,
 "nbformat_minor": 2
}
